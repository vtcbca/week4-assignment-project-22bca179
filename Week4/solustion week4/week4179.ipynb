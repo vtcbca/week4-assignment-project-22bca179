{
 "cells": [
  {
   "cell_type": "code",
   "execution_count": 1,
   "id": "521bdb23-3702-4135-bf2a-0cdd17ef7d1b",
   "metadata": {},
   "outputs": [],
   "source": [
    "import csv"
   ]
  },
  {
   "cell_type": "code",
   "execution_count": 7,
   "id": "9738f850-f5cb-401d-841f-1dd42b172f2d",
   "metadata": {},
   "outputs": [],
   "source": [
    "with open('student.csv','w',newline=\"\")as file:\n",
    "    writer=csv.writer(file)\n",
    "    header=['sid','sname','city','contect']\n",
    "    writer.writerow(header)"
   ]
  },
  {
   "cell_type": "code",
   "execution_count": 8,
   "id": "2601301f-da3e-48c1-a6e0-1f6ed082b7c5",
   "metadata": {},
   "outputs": [],
   "source": [
    "rows=[[1,'om','bardoli',9913656783],\n",
    "      [2,'sai','surat',9913590876],\n",
    "      [3,'ram','vakaner',7896785432],\n",
    "      [4,'zeel','valod',8989500943],\n",
    "      [5,'shiv','surat',3450987860]]"
   ]
  },
  {
   "cell_type": "code",
   "execution_count": 13,
   "id": "9fbc5b8c-c5a5-4065-b183-ba66e9100bff",
   "metadata": {},
   "outputs": [
    {
     "name": "stdin",
     "output_type": "stream",
     "text": [
      "enter student id: 6\n",
      "enter student name: kush\n",
      "enter student city: surat\n",
      "enter student contect: 7898904567\n",
      "enter student id: 7\n",
      "enter student name: hiten\n",
      "enter student city: bagumra\n",
      "enter student contect: 3459876794\n",
      "enter student id: 8\n",
      "enter student name: milan\n",
      "enter student city: vakaner\n",
      "enter student contect: 9871234567\n",
      "enter student id: 9\n",
      "enter student name: krish\n",
      "enter student city: surat\n",
      "enter student contect: 1230980879\n",
      "enter student id: 10\n",
      "enter student name: kush\n",
      "enter student city: surat\n",
      "enter student contect: 1234567890\n"
     ]
    }
   ],
   "source": [
    "for i in range(10):\n",
    "    sid=int(input(\"enter student id:\"))\n",
    "    sname=input(\"enter student name:\")\n",
    "    city=input(\"enter student city:\")\n",
    "    contect=input(\"enter student contect:\")\n",
    "    row=[sid,sname,city,contect]"
   ]
  },
  {
   "cell_type": "code",
   "execution_count": 14,
   "id": "6515c1c2-5416-44bd-a4f8-d2eeedc6a4fd",
   "metadata": {},
   "outputs": [],
   "source": [
    "from csv import reader"
   ]
  },
  {
   "cell_type": "code",
   "execution_count": 16,
   "id": "e7ddee33-1129-4ccf-bc66-272a831e7abd",
   "metadata": {},
   "outputs": [
    {
     "name": "stdout",
     "output_type": "stream",
     "text": [
      "['sid', 'sname', 'city', 'contect']\n"
     ]
    }
   ],
   "source": [
    "with open(\"student.csv\",\"r\",newline=\"\")as file:\n",
    "    read=reader(file)\n",
    "    for rows in read:\n",
    "        print(rows)"
   ]
  },
  {
   "cell_type": "code",
   "execution_count": null,
   "id": "861013e1-2846-4adf-99c9-218cac566120",
   "metadata": {},
   "outputs": [],
   "source": []
  }
 ],
 "metadata": {
  "kernelspec": {
   "display_name": "Python 3 (ipykernel)",
   "language": "python",
   "name": "python3"
  },
  "language_info": {
   "codemirror_mode": {
    "name": "ipython",
    "version": 3
   },
   "file_extension": ".py",
   "mimetype": "text/x-python",
   "name": "python",
   "nbconvert_exporter": "python",
   "pygments_lexer": "ipython3",
   "version": "3.9.6"
  }
 },
 "nbformat": 4,
 "nbformat_minor": 5
}
